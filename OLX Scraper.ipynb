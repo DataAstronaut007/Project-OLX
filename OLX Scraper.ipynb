{
 "cells": [
  {
   "cell_type": "code",
   "execution_count": null,
   "id": "dc2058d2-b1d9-4601-80ec-53e47e7a24db",
   "metadata": {},
   "outputs": [
    {
     "name": "stdout",
     "output_type": "stream",
     "text": [
      "-----------------------\n",
      "     Nowe aukcje\n",
      "-----------------------\n",
      "['https://www.olx.pl/d/oferta/playstation-ps-4-slim-1tb-2216b-zam-ps-3-xbox-360-one-s-CID99-IDR3FFw.html']\n",
      "-----------------------\n"
     ]
    }
   ],
   "source": [
    "from selenium import webdriver\n",
    "import time\n",
    "\n",
    "\n",
    "browser = webdriver.Chrome('/Users/kamil/Downloads/chromedriver')\n",
    "browser.maximize_window()\n",
    "#browser.get('https://www.olx.pl/d/elektronika/gry-konsole/konsole/playstation/?search%5Border%5D=created_at:desc&search%5Bfilter_enum_state%5D%5B0%5D=used')\n",
    "browser.get('https://www.olx.pl/d/elektronika/gry-konsole/konsole/?search%5Border%5D=created_at:desc&search%5Bfilter_enum_state%5D%5B0%5D=used')\n",
    "browser.find_element_by_xpath('//button[text()=\"Akceptuję\"]').click()\n",
    "time.sleep(7)\n",
    "browser.minimize_window()\n",
    "\n",
    "while 2 > 1:\n",
    "    \n",
    "    \n",
    "    zens = browser.find_elements_by_xpath(\"//a[contains(@href, 'oferta')]\")\n",
    "    result = []\n",
    "    for zen in zens:\n",
    "        x = (zen.get_attribute(\"href\"))\n",
    "        result.append(x)\n",
    "        \n",
    "    tabela_1 = result[3:10]\n",
    "    print(\"-----------------------\")\n",
    "    \n",
    "\n",
    "    time.sleep(90)\n",
    "    browser.refresh()\n",
    "    time.sleep(7)\n",
    "    \n",
    "    mens = browser.find_elements_by_xpath(\"//a[contains(@href, 'oferta')]\")\n",
    "    result_2 = []\n",
    "    for men in mens:\n",
    "        x = (men.get_attribute(\"href\"))\n",
    "        result_2.append(x)\n",
    "    \n",
    "    tabela_2 = result_2[3:10]\n",
    "    \n",
    "    res = [x for x in tabela_2 if x not in tabela_1]\n",
    "    if not res:\n",
    "        print(\"   Brak nowych aukcji\")\n",
    "        print(\"-----------------------\")\n",
    "    else:\n",
    "        print(\"     Nowe aukcje\")\n",
    "        print(\"-----------------------\")\n",
    "        print(res)\n",
    "        print(\"-----------------------\")\n",
    "        \n",
    "    time.sleep(90)\n",
    "    browser.refresh()\n",
    "    time.sleep(7)\n",
    "        \n",
    "    dens = browser.find_elements_by_xpath(\"//a[contains(@href, 'oferta')]\")\n",
    "    result_3 = []\n",
    "    for den in dens:\n",
    "        x = (den.get_attribute(\"href\"))\n",
    "        result_3.append(x)\n",
    "        \n",
    "    tabela_3 = result_3[3:10]\n",
    "    \n",
    "    res = [x for x in tabela_3 if x not in tabela_2]\n",
    "    if not res:\n",
    "        print(\"   Brak nowych aukcji\")\n",
    "        print(\"-----------------------\")\n",
    "    else:\n",
    "        print(\"     Nowe aukcje\")\n",
    "        print(\"-----------------------\")\n",
    "        print(res)\n",
    " \n",
    "\n"
   ]
  },
  {
   "cell_type": "code",
   "execution_count": null,
   "id": "09283971-337f-49cd-a48c-41f2444f154c",
   "metadata": {},
   "outputs": [],
   "source": []
  }
 ],
 "metadata": {
  "kernelspec": {
   "display_name": "Python 3 (ipykernel)",
   "language": "python",
   "name": "python3"
  },
  "language_info": {
   "codemirror_mode": {
    "name": "ipython",
    "version": 3
   },
   "file_extension": ".py",
   "mimetype": "text/x-python",
   "name": "python",
   "nbconvert_exporter": "python",
   "pygments_lexer": "ipython3",
   "version": "3.9.12"
  }
 },
 "nbformat": 4,
 "nbformat_minor": 5
}
